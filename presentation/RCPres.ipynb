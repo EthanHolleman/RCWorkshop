{
 "cells": [
  {
   "cell_type": "code",
   "execution_count": 1,
   "id": "eaeb3636",
   "metadata": {},
   "outputs": [],
   "source": [
    "# Run before starting!!!!!!!\n",
    "\n",
    "def fragment(s, n=8, i=3):\n",
    "    fragments = []\n",
    "    for j in range(0, len(s)-n+1, n-i):\n",
    "        fragments.append(s[j:j+n])\n",
    "    return fragments\n",
    "\n",
    "def print_fragments_diagram(fragments, n=8, i=3):\n",
    "    for j, frag in enumerate(fragments):\n",
    "        if j == 0:\n",
    "            print(frag)\n",
    "        else:\n",
    "            overlap_chars = ' ' * ((n-i) * j)\n",
    "            print(overlap_chars+frag)\n",
    "\n",
    "students_did_good_job = True"
   ]
  },
  {
   "cell_type": "markdown",
   "id": "4fd1af56",
   "metadata": {
    "slideshow": {
     "slide_type": "slide"
    }
   },
   "source": [
    "# Programming for the biological sciences\n",
    "Ethan Holleman\n",
    "PhD Canidate, UC Davis\n",
    "\n",
    "River City High School\n",
    "\n",
    "May YOU FORGOT TO ADD THE DATE"
   ]
  },
  {
   "cell_type": "markdown",
   "id": "1aea76e6",
   "metadata": {
    "slideshow": {
     "slide_type": "slide"
    }
   },
   "source": [
    "# Today's agenda"
   ]
  },
  {
   "cell_type": "markdown",
   "id": "a38d5858",
   "metadata": {
    "slideshow": {
     "slide_type": "fragment"
    }
   },
   "source": [
    "**Goal**: Get started on a programming problem style you might encounter in Bioinformatics"
   ]
  },
  {
   "cell_type": "markdown",
   "id": "0071baed",
   "metadata": {
    "slideshow": {
     "slide_type": "fragment"
    }
   },
   "source": [
    "``` \n",
    "# TODO\n",
    "\n",
    "# 1. Problem overview\n",
    "# 2. Group brainstorm\n",
    "# 3. Propose your solution\n",
    "# 4. Work individually to implement a solution\n",
    "```"
   ]
  },
  {
   "cell_type": "markdown",
   "id": "8f8ac371",
   "metadata": {
    "slideshow": {
     "slide_type": "slide"
    }
   },
   "source": [
    "# Challenge overview\n",
    "\n",
    "You and your team are trying to make a strain of bacteria that will produce insulin for human patients. Your colleagues have **sequenced the missing part of the gene**. However, we can **only sequence short segments** of the gene at a time. This involves breaking up the gene into small peices and sequencing those small fragments. \n",
    "\n",
    "You and your team have been tasked with **writing an algorithim to put these pieces back together**.\n",
    "\n",
    "The stakes are high because many other teams are racing to do the same ... "
   ]
  },
  {
   "cell_type": "markdown",
   "id": "3a795ff5",
   "metadata": {
    "slideshow": {
     "slide_type": "slide"
    }
   },
   "source": [
    "## Visualize the challenge"
   ]
  },
  {
   "cell_type": "markdown",
   "id": "fcc8ccb0",
   "metadata": {},
   "source": [
    "![](Shotgun_sequencing_lg.jpg)"
   ]
  },
  {
   "cell_type": "markdown",
   "id": "cea366de",
   "metadata": {
    "slideshow": {
     "slide_type": "slide"
    }
   },
   "source": [
    "# Example"
   ]
  },
  {
   "cell_type": "markdown",
   "id": "3b665ba2",
   "metadata": {
    "slideshow": {
     "slide_type": "subslide"
    }
   },
   "source": [
    "Lets say the real squence of the gene is"
   ]
  },
  {
   "cell_type": "code",
   "execution_count": 2,
   "id": "216a6ba8",
   "metadata": {},
   "outputs": [],
   "source": [
    "gene_seq = 'HELP MY CATS ARE LOSE!'  # your sequence here"
   ]
  },
  {
   "cell_type": "markdown",
   "id": "47cab903",
   "metadata": {
    "slideshow": {
     "slide_type": "subslide"
    }
   },
   "source": [
    "You may be given a set of fragments that looks like this"
   ]
  },
  {
   "cell_type": "code",
   "execution_count": 3,
   "id": "6c7940cc",
   "metadata": {},
   "outputs": [
    {
     "name": "stdout",
     "output_type": "stream",
     "text": [
      "['HELP MY ', 'MY CATS ', 'TS ARE L']\n"
     ]
    }
   ],
   "source": [
    "frags = fragment(gene_seq)\n",
    "print(frags)"
   ]
  },
  {
   "cell_type": "markdown",
   "id": "c5d2f86f",
   "metadata": {
    "slideshow": {
     "slide_type": "subslide"
    }
   },
   "source": [
    "So the overlap between these fragments might look like this. "
   ]
  },
  {
   "cell_type": "code",
   "execution_count": 4,
   "id": "4b8c1a47",
   "metadata": {
    "slideshow": {
     "slide_type": "-"
    }
   },
   "outputs": [
    {
     "name": "stdout",
     "output_type": "stream",
     "text": [
      "HELP MY \n",
      "     MY CATS \n",
      "          TS ARE L\n"
     ]
    }
   ],
   "source": [
    "print_fragments_diagram(frags)"
   ]
  },
  {
   "cell_type": "markdown",
   "id": "22c693a6",
   "metadata": {},
   "source": [
    "The original sequence can then be put back together once we know how the parts overlap each other"
   ]
  },
  {
   "cell_type": "markdown",
   "id": "2da228de",
   "metadata": {
    "slideshow": {
     "slide_type": "slide"
    }
   },
   "source": [
    "# Challenge Parameters\n"
   ]
  },
  {
   "cell_type": "markdown",
   "id": "977de040",
   "metadata": {
    "slideshow": {
     "slide_type": "fragment"
    }
   },
   "source": [
    "- Each read (fragment) will overlap at least two other fragments except the first and last fragments which may only overlap one"
   ]
  },
  {
   "cell_type": "markdown",
   "id": "f631babf",
   "metadata": {
    "slideshow": {
     "slide_type": "fragment"
    }
   },
   "source": [
    "- Fragments with the same sequence does not mean they are duplicated (the gene may have repeated regions)"
   ]
  },
  {
   "cell_type": "markdown",
   "id": "ca75cbbb",
   "metadata": {
    "slideshow": {
     "slide_type": "fragment"
    }
   },
   "source": [
    "- You must present basic pseudo code as a group to an instructor before starting implementation (planning stage)"
   ]
  },
  {
   "cell_type": "markdown",
   "id": "c8cd763c",
   "metadata": {
    "slideshow": {
     "slide_type": "slide"
    }
   },
   "source": [
    "# Planning stage"
   ]
  },
  {
   "cell_type": "markdown",
   "id": "16efae4e",
   "metadata": {},
   "source": [
    "- Get your group together and go!\n",
    "- Present pseudocode to an instructor (we will be walking around, raise your hand)"
   ]
  },
  {
   "cell_type": "markdown",
   "id": "653a25bb",
   "metadata": {
    "slideshow": {
     "slide_type": "subslide"
    }
   },
   "source": [
    "Planning stage time"
   ]
  },
  {
   "cell_type": "code",
   "execution_count": 5,
   "id": "031a75d7",
   "metadata": {
    "slideshow": {
     "slide_type": "-"
    }
   },
   "outputs": [
    {
     "name": "stdout",
     "output_type": "stream",
     "text": [
      "START TIME: 2023-05-14 15:05:25.459720\n",
      "END TIME: 2023-05-14 15:15:25.459720\n"
     ]
    }
   ],
   "source": [
    "from datetime import datetime, timedelta\n",
    "start_time = datetime.now()\n",
    "planning_time_mins = timedelta(minutes=10)\n",
    "end_time = start_time + planning_time_mins\n",
    "print('START TIME:', start_time)\n",
    "print('END TIME:', end_time)"
   ]
  },
  {
   "cell_type": "markdown",
   "id": "75d545a9",
   "metadata": {
    "slideshow": {
     "slide_type": "slide"
    }
   },
   "source": [
    "# Implementation stage"
   ]
  },
  {
   "cell_type": "markdown",
   "id": "8f61129d",
   "metadata": {
    "slideshow": {
     "slide_type": "subslide"
    }
   },
   "source": [
    "- https://github.com/EthanHolleman/RCWorkshop/tree/main/fragFiles\n",
    "    - Start with the test data\n",
    "    - If you have time and a working(ish) algorithim move onto the full dataset\n",
    "    - Python code to download and read data"
   ]
  },
  {
   "cell_type": "markdown",
   "id": "dbe2c11b",
   "metadata": {
    "slideshow": {
     "slide_type": "subslide"
    }
   },
   "source": [
    "- Direct links\n",
    "    - Test data answer: https://raw.githubusercontent.com/EthanHolleman/RCWorkshop/main/fragFiles/TESTING_ANSWER_fragmentsLevel0.txt\n",
    "    - Test data fragments: https://raw.githubusercontent.com/EthanHolleman/RCWorkshop/main/fragFiles/TESTING_fragmentsLevel0.txt\n",
    "    - All data: https://raw.githubusercontent.com/EthanHolleman/RCWorkshop/main/fragFiles/fragmentsLevel0.txt"
   ]
  },
  {
   "cell_type": "markdown",
   "id": "79165b33",
   "metadata": {
    "slideshow": {
     "slide_type": "slide"
    }
   },
   "source": [
    "# Debrief"
   ]
  },
  {
   "cell_type": "code",
   "execution_count": 6,
   "id": "ddc0a908",
   "metadata": {},
   "outputs": [
    {
     "name": "stdout",
     "output_type": "stream",
     "text": [
      "Nice job everyone!\n"
     ]
    }
   ],
   "source": [
    "if students_did_good_job:\n",
    "    print('Nice job everyone!')\n",
    "else:\n",
    "    print(':(')"
   ]
  },
  {
   "cell_type": "markdown",
   "id": "b6001a7c",
   "metadata": {
    "slideshow": {
     "slide_type": "subslide"
    }
   },
   "source": [
    "## Check your answers"
   ]
  },
  {
   "cell_type": "markdown",
   "id": "eb80bf1f",
   "metadata": {},
   "source": [
    "Code can be copied from this link: https://github.com/EthanHolleman/RCWorkshop/tree/main/answerKey"
   ]
  },
  {
   "cell_type": "markdown",
   "id": "6dea257c",
   "metadata": {
    "slideshow": {
     "slide_type": "subslide"
    }
   },
   "source": [
    "## Thanks everyone for participating!"
   ]
  },
  {
   "cell_type": "markdown",
   "id": "01993d33",
   "metadata": {
    "slideshow": {
     "slide_type": "fragment"
    }
   },
   "source": [
    " - Please feel free to keep working on this problem! If you are up for it there are also different starting files for an extra challenge!\n",
    " - See https://github.com/EthanHolleman/RCWorkshop/tree/main/fragFiles for details"
   ]
  },
  {
   "cell_type": "code",
   "execution_count": null,
   "id": "c9934f8f",
   "metadata": {
    "slideshow": {
     "slide_type": "skip"
    }
   },
   "outputs": [],
   "source": [
    "def check_answer(your_answer: str):\n",
    "    import requests\n",
    "    answer = ''.join(requests.get(\n",
    "        'https://raw.githubusercontent.com/EthanHolleman/RCWorkshop/main/answerKey/insulinSeq.fasta'\n",
    "    ).text.split('\\n')[1:-2])\n",
    "    \n",
    "    length_diff = abs(len(your_answer) - len(answer))\n",
    "    max_score = len(answer)\n",
    "    your_score = 0\n",
    "    try:\n",
    "        for i in range(len(answer)):\n",
    "            if answer[i] != your_answer[i]:\n",
    "                your_score += 1\n",
    "    except IndexError:\n",
    "        pass\n",
    "    \n",
    "    final_score = your_score + length_diff\n",
    "    message = 'You got ' + str(round((1 - (final_score / len(answer)))*100, 2)) + ' % of the sequence correct'\n",
    "    print(message)\n",
    "    return message\n",
    "\n",
    "check_answer('hello')"
   ]
  },
  {
   "cell_type": "markdown",
   "id": "7c280c47",
   "metadata": {
    "slideshow": {
     "slide_type": "skip"
    }
   },
   "source": [
    "## Read sonication"
   ]
  },
  {
   "cell_type": "code",
   "execution_count": null,
   "id": "6a3feac2",
   "metadata": {
    "scrolled": true,
    "slideshow": {
     "slide_type": "skip"
    }
   },
   "outputs": [],
   "source": [
    "from Bio import SeqIO\n",
    "import random\n",
    "from random import shuffle\n",
    "seq = SeqIO.read('insulinSeq.fasta', 'fasta')\n",
    "\n",
    "reads = []\n",
    "frag_size = 20\n",
    "fragments = fragment(str(seq.seq)[:100], n=frag_size, i=5)\n",
    "print(fragments[0])\n",
    "shuffle(fragments)\n",
    "print(fragments[0])\n",
    "with open('TESTING_fragmentsLevel0.txt', 'w') as handle:\n",
    "    for each_fragment in fragments:\n",
    "        handle.write(each_fragment + '\\n')"
   ]
  },
  {
   "cell_type": "code",
   "execution_count": null,
   "id": "b7bc6d03",
   "metadata": {
    "slideshow": {
     "slide_type": "skip"
    }
   },
   "outputs": [],
   "source": [
    "with open('TESTING_ANSWER_fragmentsLevel0.txt', 'w') as handle:\n",
    "    handle.write(str(seq.seq)[:100])"
   ]
  },
  {
   "cell_type": "code",
   "execution_count": null,
   "id": "1985fad8",
   "metadata": {
    "scrolled": true,
    "slideshow": {
     "slide_type": "skip"
    }
   },
   "outputs": [],
   "source": [
    "def fragment_random(s):\n",
    "    frags = []\n",
    "    for i in range(5000):\n",
    "        frag_start = random.randint(0, len(s)-50)\n",
    "        frag_end = frag_start + random.randint(30, 50)\n",
    "        if frag_end >= len(s):\n",
    "            frag_end = len(s)-1\n",
    "        frags.append(s[frag_start:frag_end])\n",
    "    return frags\n",
    "\n",
    "rand_frags = fragment_random(str(seq.seq))\n",
    "with open('fragmentsLevel1.txt', 'w') as handle:\n",
    "    for each_fragment in rand_frags:\n",
    "        handle.write(each_fragment + '\\n')"
   ]
  },
  {
   "cell_type": "code",
   "execution_count": null,
   "id": "dcebc60f",
   "metadata": {
    "slideshow": {
     "slide_type": "skip"
    }
   },
   "outputs": [],
   "source": [
    "def fragment_random_errors(s):\n",
    "    frags = []\n",
    "    hits = 0\n",
    "    bases = 0\n",
    "    for i in range(5000):\n",
    "        frag_start = random.randint(0, len(s)-50)\n",
    "        frag_end = frag_start + random.randint(30, 50)\n",
    "        if frag_end >= len(s):\n",
    "            frag_end = len(s)-1\n",
    "        frag = s[frag_start:frag_end]\n",
    "        for i, each_base in enumerate(frag):\n",
    "            bases += 1\n",
    "            if random.randint(0, 20) == 20:\n",
    "                hits += 1\n",
    "                frag[i] == random.choice(['A', 'T', 'G', 'C'])\n",
    "    \n",
    "                \n",
    "        \n",
    "    print(hits, bases, hits / bases)\n",
    "    return frags\n",
    "\n",
    "rand_frags = fragment_random_errors_contaim(str(seq.seq))\n",
    "with open('fragmentsLevel2.txt', 'w') as handle:\n",
    "    for each_fragment in rand_frags:\n",
    "        handle.write(each_fragment + '\\n')"
   ]
  },
  {
   "cell_type": "code",
   "execution_count": null,
   "id": "f562ecc4",
   "metadata": {
    "slideshow": {
     "slide_type": "skip"
    }
   },
   "outputs": [],
   "source": [
    "def download_test_data():\n",
    "    \"\"\"Downloads level 0 test data and correct answer. Returns a tuple. First value is the correct\n",
    "    answer as a string and second are the test fragments as a list of strings.\n",
    "    \"\"\"\n",
    "    import requests\n",
    "    frags = requests.get(\n",
    "        'https://raw.githubusercontent.com/EthanHolleman/RCWorkshop/main/fragFiles/TESTING_fragmentsLevel0.txt'\n",
    "    \n",
    "    )\n",
    "    frags = frags.text.split('\\n')[:-1] \n",
    "    \n",
    "    answer = requests.get(\n",
    "        'https://raw.githubusercontent.com/EthanHolleman/RCWorkshop/main/fragFiles/TESTING_ANSWER_fragmentsLevel0.txt'\n",
    "    )\n",
    "    answer = answer.text.strip()\n",
    "    \n",
    "    return answer, frags\n",
    "    \n",
    "    \n",
    "download_test_data()"
   ]
  }
 ],
 "metadata": {
  "celltoolbar": "Slideshow",
  "kernelspec": {
   "display_name": "Python 3 (ipykernel)",
   "language": "python",
   "name": "python3"
  },
  "language_info": {
   "codemirror_mode": {
    "name": "ipython",
    "version": 3
   },
   "file_extension": ".py",
   "mimetype": "text/x-python",
   "name": "python",
   "nbconvert_exporter": "python",
   "pygments_lexer": "ipython3",
   "version": "3.10.4"
  }
 },
 "nbformat": 4,
 "nbformat_minor": 5
}
